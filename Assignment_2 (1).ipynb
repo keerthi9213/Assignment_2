{
 "cells": [
  {
   "cell_type": "code",
   "execution_count": null,
   "metadata": {},
   "outputs": [],
   "source": [
    "1) Boolean data type's two values are True and False\n",
    "True Example:\n",
    "    2>1//prints True(since the condition is True)\n",
    "False Example:\n",
    "    2<1//prints False(since the condition is False)\n",
    "    \n",
    "    \n",
    "2) Three different types of Boolean operators\n",
    "and,or,not\n",
    "\n",
    "3)and truth table\n",
    "operand operand Result\n",
    "  T        T      T\n",
    "  T        F      F\n",
    "  F        T      F\n",
    "  F        F      F\n",
    "\n",
    "or truth table\n",
    "operand operand Result\n",
    "  T        T      T\n",
    "  T        F      T\n",
    "  F        T      T\n",
    "  F        F      F\n",
    "\n",
    "not truth table\n",
    "operand Result\n",
    "  T       F\n",
    "  F       T\n",
    "\n",
    "\n",
    "4)\n",
    "(5>4) and (3==5) = T and F = F\n",
    "not(5>4) = not(T) = F\n",
    "(5>4) or (3==5) = T or F = T\n",
    "not((5>4) or (3==5)) = not(T or F) = not(T) = F\n",
    "(True and True) and (True==False) = True and False = False\n",
    "(not False) or (not True) = True or False = True\n",
    "\n",
    "\n",
    "\n",
    "5) six different types of reference operators\n",
    "1. Arithmetic operators\n",
    "2. Bitwise operators\n",
    "3. Identity operators\n",
    "4. Comparison operators\n",
    "5. Assignment operators\n",
    "6. Logical operators\n",
    "\n",
    "\n",
    "6)  equal to operator(==) is used to compare both the operands in a statement\n",
    "Example: If(3==5):\n",
    "          prints(True)\n",
    "    assignment operator(=) is used to assign a value in the right hand side to the left side(variable) of the operator.\n",
    "         a=3\n",
    "         b=4\n",
    "            \n",
    "7) A condition is a statement which evaluates the expression,we will use it when we need to evaluate if it is true or false.\n",
    "\n",
    "8) spam=0\n",
    "   if spam==10: #first block\n",
    "        print('eggs')\n",
    "        if spam > 5: #second block\n",
    "            print('bacon')\n",
    "        else: #third block\n",
    "            print('ham')\n",
    "        print('spam')\n",
    "    print('spam')\n",
    "        \n",
    "        \n",
    "   \n",
    "   \n",
    "\n",
    "\n"
   ]
  },
  {
   "cell_type": "code",
   "execution_count": 13,
   "metadata": {},
   "outputs": [
    {
     "name": "stdout",
     "output_type": "stream",
     "text": [
      "4\n",
      "Salutations!\n"
     ]
    }
   ],
   "source": [
    "#9) \n",
    "   \n",
    "spam=int(input())\n",
    "if(spam==1):\n",
    "        print(\".\")\n",
    "elif(spam==2):\n",
    "    print(\"Hello\")\n",
    "elif(spam==3):\n",
    "    print(\"Howdy\")\n",
    "else:\n",
    "    print(\"Salutations!\")\n",
    "    \n",
    "          "
   ]
  },
  {
   "cell_type": "code",
   "execution_count": null,
   "metadata": {},
   "outputs": [],
   "source": [
    "10)\n",
    "We should press Ctrl+C if the programme is stuck in endless loop\n",
    "\n",
    "11)\n",
    "if we use break,it comes of the block leaving unexecuted the other iterations\n",
    "if we use continue,it will not execute only that iteration and execute other iterations.\n",
    "\n",
    "12)\n"
   ]
  },
  {
   "cell_type": "code",
   "execution_count": 18,
   "metadata": {},
   "outputs": [
    {
     "name": "stdout",
     "output_type": "stream",
     "text": [
      "0\n",
      "1\n",
      "2\n",
      "3\n",
      "4\n",
      "5\n",
      "6\n",
      "7\n",
      "8\n",
      "9\n"
     ]
    }
   ],
   "source": [
    "for i in range(10):\n",
    "    print(i)"
   ]
  },
  {
   "cell_type": "code",
   "execution_count": 19,
   "metadata": {},
   "outputs": [
    {
     "name": "stdout",
     "output_type": "stream",
     "text": [
      "0\n",
      "1\n",
      "2\n",
      "3\n",
      "4\n",
      "5\n",
      "6\n",
      "7\n",
      "8\n",
      "9\n"
     ]
    }
   ],
   "source": [
    "for i in range(0,10):\n",
    "    print(i)\n",
    "    "
   ]
  },
  {
   "cell_type": "code",
   "execution_count": 20,
   "metadata": {},
   "outputs": [
    {
     "name": "stdout",
     "output_type": "stream",
     "text": [
      "0\n",
      "1\n",
      "2\n",
      "3\n",
      "4\n",
      "5\n",
      "6\n",
      "7\n",
      "8\n",
      "9\n"
     ]
    }
   ],
   "source": [
    "for i in range(0,10,1):\n",
    "    print(i)"
   ]
  },
  {
   "cell_type": "code",
   "execution_count": 21,
   "metadata": {},
   "outputs": [
    {
     "ename": "SyntaxError",
     "evalue": "unmatched ')' (<ipython-input-21-20175294473a>, line 1)",
     "output_type": "error",
     "traceback": [
      "\u001b[1;36m  File \u001b[1;32m\"<ipython-input-21-20175294473a>\"\u001b[1;36m, line \u001b[1;32m1\u001b[0m\n\u001b[1;33m    12) range(10),range(0,10) and range(0,10,1) all are same as all gives the same result\u001b[0m\n\u001b[1;37m      ^\u001b[0m\n\u001b[1;31mSyntaxError\u001b[0m\u001b[1;31m:\u001b[0m unmatched ')'\n"
     ]
    }
   ],
   "source": [
    "\n",
    "12) range(10), range(0,10) and range(0,10,1) are same since it gives the same result\n"
   ]
  },
  {
   "cell_type": "code",
   "execution_count": 22,
   "metadata": {},
   "outputs": [
    {
     "name": "stdout",
     "output_type": "stream",
     "text": [
      "1\n",
      "2\n",
      "3\n",
      "4\n",
      "5\n",
      "6\n",
      "7\n",
      "8\n",
      "9\n",
      "10\n"
     ]
    }
   ],
   "source": [
    "for i in range(1,11):\n",
    "    print(i)"
   ]
  },
  {
   "cell_type": "code",
   "execution_count": null,
   "metadata": {},
   "outputs": [],
   "source": []
  },
  {
   "cell_type": "code",
   "execution_count": 3,
   "metadata": {},
   "outputs": [
    {
     "name": "stdout",
     "output_type": "stream",
     "text": [
      "1\n",
      "2\n",
      "3\n",
      "4\n",
      "5\n",
      "6\n",
      "7\n",
      "8\n",
      "9\n",
      "10\n"
     ]
    }
   ],
   "source": [
    "i = 1\n",
    "while(i<=10):\n",
    "    print(i)\n",
    "    i += 1\n"
   ]
  },
  {
   "cell_type": "code",
   "execution_count": null,
   "metadata": {},
   "outputs": [],
   "source": [
    "14) To call a bacon function \n",
    "spam.bacon()"
   ]
  }
 ],
 "metadata": {
  "kernelspec": {
   "display_name": "Python 3",
   "language": "python",
   "name": "python3"
  },
  "language_info": {
   "codemirror_mode": {
    "name": "ipython",
    "version": 3
   },
   "file_extension": ".py",
   "mimetype": "text/x-python",
   "name": "python",
   "nbconvert_exporter": "python",
   "pygments_lexer": "ipython3",
   "version": "3.8.5"
  }
 },
 "nbformat": 4,
 "nbformat_minor": 4
}
